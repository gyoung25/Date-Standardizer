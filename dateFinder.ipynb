{
 "cells": [
  {
   "cell_type": "markdown",
   "id": "9d78bbf0",
   "metadata": {},
   "source": [
    "This code is based on an assignment from the University of Michigan's Coursera course titled Appled Text Mining in Python.\n",
    "\n",
    "This code is intended to demonstrate a nontrivial use of RegEx for text data extraction.\n",
    "\n",
    "The code looks through a dataset of 500 typed medical notes and extracts dates from each.\n",
    "\n",
    "The formatting of the dates in the notes varies quite a bit. For example, dates could be written 08/01/2023; 8/1/23; August 1, 2013; Aug 1, 2013; Aug. 1, 2013; 1 Aug 2013; Aug 2013 (no day); 2023 (no day or month), etc.\n",
    "\n",
    "Assumptions: dates missing a day will be assigned the first day of the month, 01. Dates missing a day and month will be assigned January first of the given year.\n"
   ]
  },
  {
   "cell_type": "code",
   "execution_count": 8,
   "id": "ff20f9f3",
   "metadata": {},
   "outputs": [
    {
     "data": {
      "text/plain": [
       "0         03/25/93 Total time of visit (in minutes):\\n\n",
       "1                       6/18/85 Primary Care Doctor:\\n\n",
       "2    sshe plans to move as of 7/8/71 In-Home Servic...\n",
       "3                7 on 9/27/75 Audit C Score Current:\\n\n",
       "4    2/6/96 sleep studyPain Treatment Pain Level (N...\n",
       "5                    .Per 7/06/79 Movement D/O note:\\n\n",
       "6    4, 5/18/78 Patient's thoughts about current su...\n",
       "7    10/24/89 CPT Code: 90801 - Psychiatric Diagnos...\n",
       "8                         3/7/86 SOS-10 Total Score:\\n\n",
       "9             (4/10/71)Score-1Audit C Score Current:\\n\n",
       "dtype: object"
      ]
     },
     "execution_count": 8,
     "metadata": {},
     "output_type": "execute_result"
    }
   ],
   "source": [
    "import pandas as pd\n",
    "import re\n",
    "\n",
    "doc = []\n",
    "with open('date_doc.txt') as file:\n",
    "    for line in file:\n",
    "        doc.append(line)\n",
    "\n",
    "df = pd.Series(doc)\n",
    "#df.head(10)"
   ]
  },
  {
   "cell_type": "code",
   "execution_count": 5,
   "id": "1b059068",
   "metadata": {},
   "outputs": [
    {
     "name": "stdout",
     "output_type": "stream",
     "text": [
      "500\n"
     ]
    }
   ],
   "source": [
    "def date_finder(dates_text):\n",
    "    \"\"\"\n",
    "    Arguments:\n",
    "        dates_text - a list of texts from which dates will be extracted\n",
    "    Returns:\n",
    "        dates - a list of strings of dates extracted from the texts in df\n",
    "    \"\"\"\n",
    "    import re\n",
    "    order = None\n",
    "    dates = []\n",
    "    missed = 0\n",
    "    found = 0\n",
    "    for i,line in enumerate(dates_text):\n",
    "        #catch all dates of the form [M]M-[D]D-YYYY or [M]M-YYYY or [M]M/[D]D/YYYY or [M]M/YYYY\n",
    "        date_num1 = re.search(r'((0[1-9]|1[012]|[1-9])(\\/|-)((0[1-9]|[12][0-9]|3[01]|[1-9])(\\/|-))*((19|20)\\d{2}))',line)\n",
    "        #catch all dates of the form [M]M-[D]D-YY or [M]M/[D]D/YY\n",
    "        date_num2 = re.search(r'((0[1-9]|1[012]|[1-9])(\\/|-)((0[1-9]|[12][0-9]|3[01]|[1-9])(\\/|-))(\\d{2}))',line)\n",
    "        #catch all dates of the form YYYY\n",
    "        date_num3 = re.search(r'((19|20)\\d{2})', line)\n",
    "        #catch all dates of the form [D]D Month [YY]YY\n",
    "        date_str1 = re.search(r'(0[1-9]|[12][0-9]|3[01]|[1-9])\\s(Jan|Feb|Mar|Apr|May|Jun|Jul|Aug|Sep|Oct|Nov|Dec)[\\.,\\w]*\\s((19|20)\\d{2}|\\d{2})',line)\n",
    "        #catch all dates of the form Month [D]D [YY]YY \n",
    "        date_str2 = re.search(r'(Jan|Feb|Mar|Apr|May|Jun|Jul|Aug|Sep|Oct|Nov|Dec)[\\.,\\w]*[-\\s](0[1-9]|[12][0-9]|3[01]|[1-9])*\\w*,*\\s*((19|20)\\d{2}|\\d{2})',line)\n",
    "        \n",
    "        # Note: the order of the RegEx searches below matters. For example, if a date is written MM/DD/YYYY, \n",
    "        # then both date_num1 and date_num2 would catch it, but date_num2 would not return the full year, only\n",
    "        # the first two digits of the four-digit year. We must therefore collect all dates of this form using\n",
    "        # date_num1, then move on the the remaining dates in a numerical format (that is, the ones of the form\n",
    "        # MM/DD/YY) after date_num1 misses them.\n",
    "        if date_num1 != None:\n",
    "            dates.append(date_num1[0])\n",
    "        elif date_num2 != None:\n",
    "            if re.search(r'\\/\\d{2}$',date_num2[0]) != None:\n",
    "                date_num2 = re.sub(r'\\/\\d{2}$',\"/19\"+str(date_num2[0][-2:]),date_num2[0])\n",
    "                dates.append(date_num2)\n",
    "            else:\n",
    "                dates.append(date_num2[0])\n",
    "        elif date_str1 != None:\n",
    "            dates.append(date_str1[0])\n",
    "        elif date_str2 != None:\n",
    "            dates.append(date_str2[0])\n",
    "        elif date_num3 != None:\n",
    "            dates.append(date_num3[0])\n",
    "        else:\n",
    "            print(line)\n",
    "            missed += 1\n",
    "            print(f'Missed line {i}')\n",
    "    #manual corrections\n",
    "    #print(dates[298])\n",
    "    dates[298] = 'January 1993'\n",
    "    dates[313] = 'December 1978'\n",
    "    return dates\n",
    "dates = date_finder(doc)\n",
    "\n",
    "print(len(dates))"
   ]
  },
  {
   "cell_type": "code",
   "execution_count": 7,
   "id": "0da9f486",
   "metadata": {},
   "outputs": [],
   "source": [
    "with open('dates.txt', 'w') as f:\n",
    "    for line in dates:\n",
    "        f.write(f\"{line}\\n\")"
   ]
  },
  {
   "cell_type": "code",
   "execution_count": 28,
   "id": "32875f17",
   "metadata": {},
   "outputs": [
    {
     "name": "stdout",
     "output_type": "stream",
     "text": [
      "24    07/25/1984\n",
      "25       4-13-82\n",
      "dtype: object\n",
      "The head of the sorted records looks like \n",
      "9    1971-04-10\n",
      "84   1971-05-18\n",
      "2    1971-07-08\n",
      "53   1971-07-11\n",
      "28   1971-09-12\n",
      "dtype: datetime64[ns]\n",
      "and the tail looks like \n",
      "427   2016-05-01\n",
      "141   2016-05-30\n",
      "186   2016-10-13\n",
      "161   2016-10-19\n",
      "413   2016-11-01\n",
      "dtype: datetime64[ns]\n",
      "The oldest medical record is from 1971-04-10 and the most recent is from 2016-11-01.\n"
     ]
    }
   ],
   "source": [
    "def date_sorter(dates):\n",
    "    \"\"\"\n",
    "    Arguments:\n",
    "        dates - list of strings of dates\n",
    "    Returns:\n",
    "        date_series - pandas Series containing a sorted list of dates in standardized format\n",
    "    \"\"\"\n",
    "    # Store the dates in a pandas Series\n",
    "    dates_series = pd.Series(dates)\n",
    "    print(dates_series[24:26])\n",
    "    # Convert the dates collected into datetime format for consistent formatting and easier analysis\n",
    "    date_series = pd.to_datetime(dates_series)\n",
    "    # Sort this list of dates in ascending order\n",
    "    date_series.sort_values(inplace = True, kind = 'mergesort')\n",
    "    #print(missed)\n",
    "    return date_series\n",
    "date_series = date_sorter(dates)\n",
    "print(f'The head of the sorted records looks like \\n{date_series.head()}')\n",
    "print(f'and the tail looks like \\n{date_series.tail()}')\n",
    "print(f'The oldest medical record is from {date_series.iloc[0].date()} and the most recent is from {date_series.iloc[-1].date()}.')"
   ]
  },
  {
   "cell_type": "code",
   "execution_count": 26,
   "id": "6a6c2f81",
   "metadata": {},
   "outputs": [
    {
     "name": "stdout",
     "output_type": "stream",
     "text": [
      "1982-04-13 00:00:00\n"
     ]
    }
   ],
   "source": [
    "print(date_series[25])"
   ]
  },
  {
   "cell_type": "code",
   "execution_count": null,
   "id": "02277a58",
   "metadata": {},
   "outputs": [],
   "source": []
  }
 ],
 "metadata": {
  "kernelspec": {
   "display_name": "Python 3 (ipykernel)",
   "language": "python",
   "name": "python3"
  },
  "language_info": {
   "codemirror_mode": {
    "name": "ipython",
    "version": 3
   },
   "file_extension": ".py",
   "mimetype": "text/x-python",
   "name": "python",
   "nbconvert_exporter": "python",
   "pygments_lexer": "ipython3",
   "version": "3.10.8"
  }
 },
 "nbformat": 4,
 "nbformat_minor": 5
}
